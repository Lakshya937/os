{
  "nbformat": 4,
  "nbformat_minor": 0,
  "metadata": {
    "colab": {
      "provenance": [],
      "authorship_tag": "ABX9TyNLG9wyrkUm9TuPScfnnTe0",
      "include_colab_link": true
    },
    "kernelspec": {
      "name": "python3",
      "display_name": "Python 3"
    },
    "language_info": {
      "name": "python"
    }
  },
  "cells": [
    {
      "cell_type": "markdown",
      "metadata": {
        "id": "view-in-github",
        "colab_type": "text"
      },
      "source": [
        "<a href=\"https://colab.research.google.com/github/Lakshya937/os/blob/main/experiment5.ipynb\" target=\"_parent\"><img src=\"https://colab.research.google.com/assets/colab-badge.svg\" alt=\"Open In Colab\"/></a>"
      ]
    },
    {
      "cell_type": "markdown",
      "source": [
        "WITHOUT ARRIVAL TIME"
      ],
      "metadata": {
        "id": "wJcJN3LepQEW"
      }
    },
    {
      "cell_type": "code",
      "execution_count": 1,
      "metadata": {
        "colab": {
          "base_uri": "https://localhost:8080/"
        },
        "id": "C0zYmbFxoxAI",
        "outputId": "4e60db3b-1cb9-46fe-aad0-a52f7675a57b"
      },
      "outputs": [
        {
          "output_type": "stream",
          "name": "stdout",
          "text": [
            "Process\tBurst Time\tWaiting Time\tTurnaround Time\n",
            "P1\t24\t\t0\t\t24\n",
            "P2\t3\t\t24\t\t27\n",
            "P3\t3\t\t27\t\t30\n",
            "P4\t4\t\t30\t\t34\n"
          ]
        }
      ],
      "source": [
        "def fcfs_without_arrival_time(processes, burst_times):\n",
        "    n = len(processes)\n",
        "    waiting_time = [0] * n\n",
        "    turnaround_time = [0] * n\n",
        "\n",
        "    # Waiting time\n",
        "    for i in range(1, n):\n",
        "        waiting_time[i] = burst_times[i - 1] + waiting_time[i - 1]\n",
        "\n",
        "    # Turnaround time\n",
        "    for i in range(n):\n",
        "        turnaround_time[i] = burst_times[i] + waiting_time[i]\n",
        "\n",
        "    # Print results\n",
        "    print(\"Process\\tBurst Time\\tWaiting Time\\tTurnaround Time\")\n",
        "    for i in range(n):\n",
        "        print(f\"{processes[i]}\\t{burst_times[i]}\\t\\t{waiting_time[i]}\\t\\t{turnaround_time[i]}\")\n",
        "\n",
        "# Example usage\n",
        "processes = ['P1', 'P2', 'P3', 'P4']\n",
        "burst_times = [24, 3, 3, 4]\n",
        "fcfs_without_arrival_time(processes, burst_times)"
      ]
    },
    {
      "cell_type": "markdown",
      "source": [
        "WITH ARRIVAL TIME"
      ],
      "metadata": {
        "id": "HRoZLglepbKk"
      }
    },
    {
      "cell_type": "code",
      "source": [
        "def fcfs_with_arrival_time(processes, burst_times, arrival_times):\n",
        "    n = len(processes)\n",
        "    waiting_time = [0] * n\n",
        "    turnaround_time = [0] * n\n",
        "\n",
        "    # Waiting time\n",
        "    waiting_time[0] = 0\n",
        "    for i in range(1, n):\n",
        "        waiting_time[i] = waiting_time[i - 1] + burst_times[i - 1] - arrival_times[i]\n",
        "\n",
        "    # Turnaround time\n",
        "    for i in range(n):\n",
        "        turnaround_time[i] = burst_times[i] + waiting_time[i]\n",
        "\n",
        "    # Print results\n",
        "    print(\"Process\\tArrival Time\\tBurst Time\\tWaiting Time\\tTurnaround Time\")\n",
        "    for i in range(n):\n",
        "        print(f\"{processes[i]}\\t{arrival_times[i]}\\t\\t{burst_times[i]}\\t\\t{waiting_time[i]}\\t\\t{turnaround_time[i]}\")\n",
        "\n",
        "# Example usage\n",
        "processes = ['P1', 'P2', 'P3', 'P4']\n",
        "burst_times = [24, 3, 3, 4]\n",
        "arrival_times = [0, 3, 1, 9]\n",
        "fcfs_with_arrival_time(processes, burst_times, arrival_times)\n",
        "\n"
      ],
      "metadata": {
        "colab": {
          "base_uri": "https://localhost:8080/"
        },
        "id": "QZ5wz2ECpO_0",
        "outputId": "96958b69-5614-4129-a5a6-4e1e3e3dc710"
      },
      "execution_count": 2,
      "outputs": [
        {
          "output_type": "stream",
          "name": "stdout",
          "text": [
            "Process\tArrival Time\tBurst Time\tWaiting Time\tTurnaround Time\n",
            "P1\t0\t\t24\t\t0\t\t24\n",
            "P2\t3\t\t3\t\t21\t\t24\n",
            "P3\t1\t\t3\t\t23\t\t26\n",
            "P4\t9\t\t4\t\t17\t\t21\n"
          ]
        }
      ]
    }
  ]
}