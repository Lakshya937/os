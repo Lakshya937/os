{
  "nbformat": 4,
  "nbformat_minor": 0,
  "metadata": {
    "colab": {
      "provenance": [],
      "authorship_tag": "ABX9TyOa2cj267qaxa1bAPyAoP7z",
      "include_colab_link": true
    },
    "kernelspec": {
      "name": "python3",
      "display_name": "Python 3"
    },
    "language_info": {
      "name": "python"
    }
  },
  "cells": [
    {
      "cell_type": "markdown",
      "metadata": {
        "id": "view-in-github",
        "colab_type": "text"
      },
      "source": [
        "<a href=\"https://colab.research.google.com/github/Lakshya937/os/blob/main/EXPERIMENT6.ipynb\" target=\"_parent\"><img src=\"https://colab.research.google.com/assets/colab-badge.svg\" alt=\"Open In Colab\"/></a>"
      ]
    },
    {
      "cell_type": "markdown",
      "source": [
        "SJF (NON PREEMPTIVE)"
      ],
      "metadata": {
        "id": "QbUOwok3XG_U"
      }
    },
    {
      "cell_type": "code",
      "source": [
        "class Process:\n",
        "    def __init__(self, pid, arrival_time, burst_time):\n",
        "        self.pid = pid\n",
        "        self.arrival_time = arrival_time\n",
        "        self.burst_time = burst_time\n",
        "\n",
        "def sjf_non_preemptive(processes, n):\n",
        "    completion_time = [0] * n\n",
        "    waiting_time = [0] * n\n",
        "    turnaround_time = [0] * n\n",
        "    total_burst_time = sum([process.burst_time for process in processes])\n",
        "    current_time = 0\n",
        "\n",
        "    # Sort processes by arrival time and burst time\n",
        "    processes.sort(key=lambda x: (x.arrival_time, x.burst_time))\n",
        "\n",
        "    for i in range(n):\n",
        "        current_process = processes[i]\n",
        "        current_time = max(current_time, current_process.arrival_time)\n",
        "        completion_time[i] = current_time + current_process.burst_time\n",
        "        turnaround_time[i] = completion_time[i] - current_process.arrival_time\n",
        "        waiting_time[i] = turnaround_time[i] - current_process.burst_time\n",
        "        current_time = completion_time[i]\n",
        "\n",
        "    # Calculate average waiting time and turnaround time\n",
        "    total_waiting_time = sum(waiting_time)\n",
        "    total_turnaround_time = sum(turnaround_time)\n",
        "    average_waiting_time = total_waiting_time / n\n",
        "    average_turnaround_time = total_turnaround_time / n\n",
        "\n",
        "    # Display the results\n",
        "    print(\"Process\\tArrival Time\\tBurst Time\\tCompletion Time\\tWaiting Time\\tTurnaround Time\")\n",
        "    for i in range(n):\n",
        "        print(f\"{processes[i].pid}\\t{processes[i].arrival_time}\\t\\t{processes[i].burst_time}\\t\\t{completion_time[i]}\\t\\t{waiting_time[i]}\\t\\t{turnaround_time[i]}\")\n",
        "\n",
        "    print(f\"Average Waiting Time: {average_waiting_time}\")\n",
        "    print(f\"Average Turnaround Time: {average_turnaround_time}\")\n",
        "\n",
        "# Example usage:\n",
        "if __name__ == \"__main__\":\n",
        "    processes = [\n",
        "        Process(\"P1\", 0, 6),\n",
        "        Process(\"P2\", 1, 8),\n",
        "        Process(\"P3\", 2, 7),\n",
        "        Process(\"P4\", 3, 3),\n",
        "        Process(\"P5\", 4, 4)\n",
        "    ]\n",
        "    sjf_non_preemptive(processes, len(processes))\n"
      ],
      "metadata": {
        "colab": {
          "base_uri": "https://localhost:8080/"
        },
        "id": "-3MfaV1zZn42",
        "outputId": "b1559e5d-c487-452d-fbfb-e10e92d66544"
      },
      "execution_count": 4,
      "outputs": [
        {
          "output_type": "stream",
          "name": "stdout",
          "text": [
            "Process\tArrival Time\tBurst Time\tCompletion Time\tWaiting Time\tTurnaround Time\n",
            "P1\t0\t\t6\t\t6\t\t0\t\t6\n",
            "P2\t1\t\t8\t\t14\t\t5\t\t13\n",
            "P3\t2\t\t7\t\t21\t\t12\t\t19\n",
            "P4\t3\t\t3\t\t24\t\t18\t\t21\n",
            "P5\t4\t\t4\t\t28\t\t20\t\t24\n",
            "Average Waiting Time: 11.0\n",
            "Average Turnaround Time: 16.6\n"
          ]
        }
      ]
    },
    {
      "cell_type": "markdown",
      "source": [
        "SJF (PREEMPTIVE)"
      ],
      "metadata": {
        "id": "9xa_1LX4ZKX6"
      }
    },
    {
      "cell_type": "code",
      "source": [
        "class Process:\n",
        "    def __init__(self, pid, arrival_time, burst_time):\n",
        "        self.pid = pid\n",
        "        self.arrival_time = arrival_time\n",
        "        self.burst_time = burst_time\n",
        "        self.remaining_time = burst_time\n",
        "\n",
        "def srtf(processes):\n",
        "    completion_time = [0] * len(processes)\n",
        "    waiting_time = [0] * len(processes)\n",
        "    turnaround_time = [0] * len(processes)\n",
        "    current_time = 0\n",
        "    remaining_processes = len(processes)\n",
        "\n",
        "    while remaining_processes > 0:\n",
        "        min_burst_time = float('inf')\n",
        "        shortest_process_index = -1\n",
        "\n",
        "        for i, process in enumerate(processes):\n",
        "            if process.arrival_time <= current_time and process.remaining_time < min_burst_time and process.remaining_time > 0:\n",
        "                min_burst_time = process.remaining_time\n",
        "                shortest_process_index = i\n",
        "\n",
        "        if shortest_process_index == -1:\n",
        "            current_time += 1\n",
        "            continue\n",
        "\n",
        "        shortest_process = processes[shortest_process_index]\n",
        "        shortest_process.remaining_time -= 1\n",
        "\n",
        "        if shortest_process.remaining_time == 0:\n",
        "            remaining_processes -= 1\n",
        "            completion_time[shortest_process_index] = current_time + 1\n",
        "            turnaround_time[shortest_process_index] = completion_time[shortest_process_index] - shortest_process.arrival_time\n",
        "            waiting_time[shortest_process_index] = turnaround_time[shortest_process_index] - shortest_process.burst_time\n",
        "\n",
        "        current_time += 1\n",
        "\n",
        "    # Calculate average waiting time and turnaround time\n",
        "    total_waiting_time = sum(waiting_time)\n",
        "    total_turnaround_time = sum(turnaround_time)\n",
        "    average_waiting_time = total_waiting_time / len(processes)\n",
        "    average_turnaround_time = total_turnaround_time / len(processes)\n",
        "\n",
        "    # Display the results\n",
        "    print(\"Process\\tArrival Time\\tBurst Time\\tCompletion Time\\tWaiting Time\\tTurnaround Time\")\n",
        "    for i, process in enumerate(processes):\n",
        "        print(f\"{process.pid}\\t{process.arrival_time}\\t\\t{process.burst_time}\\t\\t{completion_time[i]}\\t\\t{waiting_time[i]}\\t\\t{turnaround_time[i]}\")\n",
        "\n",
        "    print(f\"Average Waiting Time: {average_waiting_time}\")\n",
        "    print(f\"Average Turnaround Time: {average_turnaround_time}\")\n",
        "\n",
        "# Example usage:\n",
        "if __name__ == \"__main__\":\n",
        "    processes = [\n",
        "        Process(\"P1\", 0, 6),\n",
        "        Process(\"P2\", 1, 8),\n",
        "        Process(\"P3\", 2, 7),\n",
        "        Process(\"P4\", 3, 3),\n",
        "        Process(\"P5\", 4, 4)\n",
        "    ]\n",
        "    srtf(processes)\n"
      ],
      "metadata": {
        "colab": {
          "base_uri": "https://localhost:8080/"
        },
        "id": "DKdooXwFcaiY",
        "outputId": "9558bbee-084f-45b9-eda0-63bcdf8139f5"
      },
      "execution_count": 5,
      "outputs": [
        {
          "output_type": "stream",
          "name": "stdout",
          "text": [
            "Process\tArrival Time\tBurst Time\tCompletion Time\tWaiting Time\tTurnaround Time\n",
            "P1\t0\t\t6\t\t6\t\t0\t\t6\n",
            "P2\t1\t\t8\t\t28\t\t19\t\t27\n",
            "P3\t2\t\t7\t\t20\t\t11\t\t18\n",
            "P4\t3\t\t3\t\t9\t\t3\t\t6\n",
            "P5\t4\t\t4\t\t13\t\t5\t\t9\n",
            "Average Waiting Time: 7.6\n",
            "Average Turnaround Time: 13.2\n"
          ]
        }
      ]
    }
  ]
}