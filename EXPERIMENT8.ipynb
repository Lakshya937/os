{
  "nbformat": 4,
  "nbformat_minor": 0,
  "metadata": {
    "colab": {
      "provenance": [],
      "authorship_tag": "ABX9TyNL8DJgDTbqiMmf/E2RdBsv",
      "include_colab_link": true
    },
    "kernelspec": {
      "name": "python3",
      "display_name": "Python 3"
    },
    "language_info": {
      "name": "python"
    }
  },
  "cells": [
    {
      "cell_type": "markdown",
      "metadata": {
        "id": "view-in-github",
        "colab_type": "text"
      },
      "source": [
        "<a href=\"https://colab.research.google.com/github/Lakshya937/os/blob/main/EXPERIMENT8.ipynb\" target=\"_parent\"><img src=\"https://colab.research.google.com/assets/colab-badge.svg\" alt=\"Open In Colab\"/></a>"
      ]
    },
    {
      "cell_type": "code",
      "execution_count": 1,
      "metadata": {
        "colab": {
          "base_uri": "https://localhost:8080/"
        },
        "id": "pdO36183DXY6",
        "outputId": "07a76d96-751b-4f1a-e402-c5e23233ca85"
      },
      "outputs": [
        {
          "output_type": "stream",
          "name": "stdout",
          "text": [
            "Process P1 executed for 2 units of time.\n",
            "Process P2 executed for 4 units of time.\n",
            "Process P3 executed for 6 units of time.\n",
            "Process P4 executed for 8 units of time.\n",
            "Process P1 executed for 10 units of time.\n",
            "Process P2 executed for 12 units of time.\n",
            "Process P3 executed for 14 units of time.\n",
            "Process P4 executed for 16 units of time.\n",
            "Process P1 executed for 18 units of time.\n",
            "Process P2 executed for 19 units of time.\n",
            "Process P3 executed for 21 units of time.\n",
            "Process P1 executed for 23 units of time.\n",
            "Process P3 executed for 25 units of time.\n",
            "Process P1 executed for 27 units of time.\n"
          ]
        }
      ],
      "source": [
        "class Process:\n",
        "    def __init__(self, name, burst_time):\n",
        "        self.name = name\n",
        "        self.burst_time = burst_time\n",
        "        self.remaining_time = burst_time\n",
        "\n",
        "def round_robin(processes, quantum_time):\n",
        "    n = len(processes)\n",
        "    queue = []\n",
        "    time = 0\n",
        "    total_burst_time = sum(p.burst_time for p in processes)\n",
        "\n",
        "    while total_burst_time > 0:\n",
        "        for process in processes:\n",
        "            if process.remaining_time > 0:\n",
        "                if process.remaining_time <= quantum_time:\n",
        "                    time += process.remaining_time\n",
        "                    total_burst_time -= process.remaining_time\n",
        "                    process.remaining_time = 0\n",
        "                else:\n",
        "                    time += quantum_time\n",
        "                    total_burst_time -= quantum_time\n",
        "                    process.remaining_time -= quantum_time\n",
        "                print(f\"Process {process.name} executed for {time} units of time.\")\n",
        "                queue.append(process)\n",
        "\n",
        "        # Rotate the queue to implement Round Robin\n",
        "        if queue:\n",
        "            current_process = queue.pop(0)\n",
        "            queue.append(current_process)\n",
        "\n",
        "# Example usage:\n",
        "if __name__ == \"__main__\":\n",
        "    processes = [\n",
        "        Process(\"P1\", 10),\n",
        "        Process(\"P2\", 5),\n",
        "        Process(\"P3\", 8),\n",
        "        Process(\"P4\", 4)\n",
        "    ]\n",
        "\n",
        "    quantum_time = 2\n",
        "    round_robin(processes, quantum_time)\n"
      ]
    }
  ]
}